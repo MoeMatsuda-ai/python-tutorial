{
 "cells": [
  {
   "cell_type": "markdown",
   "id": "e893121e-6f1a-4893-860e-e080da6b974b",
   "metadata": {},
   "source": [
    "# Chapter 1\n"
   ]
  },
  {
   "cell_type": "markdown",
   "id": "b624751c-770c-49c4-ba91-9db1e8f774e2",
   "metadata": {},
   "source": [
    "## Pythonとは？\n",
    "- インタプリタ言語\n",
    "    \n",
    "- オブジェクト指向\n"
   ]
  },
  {
   "cell_type": "code",
   "execution_count": null,
   "id": "b7f58242-a859-43f1-974b-46978ba15def",
   "metadata": {},
   "outputs": [],
   "source": []
  }
 ],
 "metadata": {
  "kernelspec": {
   "display_name": "con_pip",
   "language": "python",
   "name": "python3"
  },
  "language_info": {
   "codemirror_mode": {
    "name": "ipython",
    "version": 3
   },
   "file_extension": ".py",
   "mimetype": "text/x-python",
   "name": "python",
   "nbconvert_exporter": "python",
   "pygments_lexer": "ipython3",
   "version": "3.9.12"
  }
 },
 "nbformat": 4,
 "nbformat_minor": 5
}
